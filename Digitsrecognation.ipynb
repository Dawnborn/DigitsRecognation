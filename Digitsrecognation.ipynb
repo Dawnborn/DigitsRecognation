{
 "cells": [
  {
   "cell_type": "code",
   "execution_count": 1,
   "metadata": {
    "ExecuteTime": {
     "end_time": "2020-06-23T12:07:33.016669Z",
     "start_time": "2020-06-23T12:07:32.970694Z"
    }
   },
   "outputs": [],
   "source": [
    "from imutils import contours\n",
    "import numpy as np\n",
    "import argparse\n",
    "import cv2\n",
    "import myutils"
   ]
  },
  {
   "cell_type": "code",
   "execution_count": 116,
   "metadata": {
    "ExecuteTime": {
     "end_time": "2020-06-23T14:48:50.111594Z",
     "start_time": "2020-06-23T14:48:50.106614Z"
    }
   },
   "outputs": [],
   "source": [
    "template='ocr_a_reference.png'\n",
    "image_path='images/credit_card_01.png'"
   ]
  },
  {
   "cell_type": "code",
   "execution_count": 13,
   "metadata": {
    "ExecuteTime": {
     "end_time": "2020-06-23T12:13:31.862304Z",
     "start_time": "2020-06-23T12:13:31.856289Z"
    }
   },
   "outputs": [],
   "source": [
    "# set card type\n",
    "FIRST_NUMBER = {\n",
    "\t\"3\": \"American Express\",\n",
    "\t\"4\": \"Visa\",\n",
    "\t\"5\": \"MasterCard\",\n",
    "\t\"6\": \"Discover Card\"\n",
    "}"
   ]
  },
  {
   "cell_type": "code",
   "execution_count": 14,
   "metadata": {
    "ExecuteTime": {
     "end_time": "2020-06-23T12:13:32.731805Z",
     "start_time": "2020-06-23T12:13:32.725793Z"
    }
   },
   "outputs": [],
   "source": [
    "# display\n",
    "def cv_show(name,img):\n",
    "\tcv2.imshow(name, img)\n",
    "\tcv2.waitKey(0)\n",
    "\tcv2.destroyAllWindows()"
   ]
  },
  {
   "cell_type": "markdown",
   "metadata": {},
   "source": [
    "# Template processing"
   ]
  },
  {
   "cell_type": "code",
   "execution_count": 61,
   "metadata": {
    "ExecuteTime": {
     "end_time": "2020-06-23T12:54:57.568234Z",
     "start_time": "2020-06-23T12:54:52.934893Z"
    }
   },
   "outputs": [],
   "source": [
    "# load a template image\n",
    "img = cv2.imread(template)\n",
    "cv_show('img',img)\n",
    "ref = cv2.cvtColor(img, cv2.COLOR_BGR2GRAY)\n",
    "cv_show('ref',ref)"
   ]
  },
  {
   "cell_type": "code",
   "execution_count": 69,
   "metadata": {
    "ExecuteTime": {
     "end_time": "2020-06-23T13:00:09.764344Z",
     "start_time": "2020-06-23T13:00:08.717964Z"
    }
   },
   "outputs": [],
   "source": [
    "ref = cv2.threshold(img,10,255,cv2.THRESH_BINARY_INV)[1]\n",
    "cv_show('ref',ref)"
   ]
  },
  {
   "cell_type": "code",
   "execution_count": 74,
   "metadata": {
    "ExecuteTime": {
     "end_time": "2020-06-23T13:03:10.889569Z",
     "start_time": "2020-06-23T13:03:10.883552Z"
    }
   },
   "outputs": [],
   "source": [
    "ref=ref[:,:,0] #hjp"
   ]
  },
  {
   "cell_type": "code",
   "execution_count": 85,
   "metadata": {
    "ExecuteTime": {
     "end_time": "2020-06-23T14:05:46.001313Z",
     "start_time": "2020-06-23T14:05:45.983321Z"
    },
    "collapsed": true
   },
   "outputs": [
    {
     "data": {
      "text/plain": [
       "array([[[255, 255, 255],\n",
       "        [255, 255, 255],\n",
       "        [255, 255, 255],\n",
       "        ...,\n",
       "        [255, 255, 255],\n",
       "        [255, 255, 255],\n",
       "        [255, 255, 255]],\n",
       "\n",
       "       [[255, 255, 255],\n",
       "        [255, 255, 255],\n",
       "        [255, 255, 255],\n",
       "        ...,\n",
       "        [255, 255, 255],\n",
       "        [255, 255, 255],\n",
       "        [255, 255, 255]],\n",
       "\n",
       "       [[255, 255, 255],\n",
       "        [255, 255, 255],\n",
       "        [255, 255, 255],\n",
       "        ...,\n",
       "        [255, 255, 255],\n",
       "        [255, 255, 255],\n",
       "        [255, 255, 255]],\n",
       "\n",
       "       ...,\n",
       "\n",
       "       [[255, 255, 255],\n",
       "        [255, 255, 255],\n",
       "        [255, 255, 255],\n",
       "        ...,\n",
       "        [255, 255, 255],\n",
       "        [255, 255, 255],\n",
       "        [255, 255, 255]],\n",
       "\n",
       "       [[255, 255, 255],\n",
       "        [255, 255, 255],\n",
       "        [255, 255, 255],\n",
       "        ...,\n",
       "        [255, 255, 255],\n",
       "        [255, 255, 255],\n",
       "        [255, 255, 255]],\n",
       "\n",
       "       [[255, 255, 255],\n",
       "        [255, 255, 255],\n",
       "        [255, 255, 255],\n",
       "        ...,\n",
       "        [255, 255, 255],\n",
       "        [255, 255, 255],\n",
       "        [255, 255, 255]]], dtype=uint8)"
      ]
     },
     "execution_count": 85,
     "metadata": {},
     "output_type": "execute_result"
    }
   ],
   "source": [
    "refCnts,hierarchy = cv2.findContours(ref.copy(),cv2.RETR_EXTERNAL, cv2.CHAIN_APPROX_SIMPLE)\n",
    "cv2.drawContours(img,refCnts,-1,(0,255,0),3) "
   ]
  },
  {
   "cell_type": "code",
   "execution_count": 86,
   "metadata": {
    "ExecuteTime": {
     "end_time": "2020-06-23T14:05:58.978876Z",
     "start_time": "2020-06-23T14:05:57.706603Z"
    }
   },
   "outputs": [],
   "source": [
    "cv_show('img',img)"
   ]
  },
  {
   "cell_type": "code",
   "execution_count": 87,
   "metadata": {
    "ExecuteTime": {
     "end_time": "2020-06-23T14:06:00.189181Z",
     "start_time": "2020-06-23T14:06:00.181185Z"
    }
   },
   "outputs": [
    {
     "name": "stdout",
     "output_type": "stream",
     "text": [
      "(10,)\n"
     ]
    }
   ],
   "source": [
    "print(np.array(refCnts).shape)"
   ]
  },
  {
   "cell_type": "code",
   "execution_count": 95,
   "metadata": {
    "ExecuteTime": {
     "end_time": "2020-06-23T14:12:55.892982Z",
     "start_time": "2020-06-23T14:12:55.885985Z"
    }
   },
   "outputs": [],
   "source": [
    "refCnts = myutils.sort_contours(refCnts, method=\"left-to-right\")[0] #sort, from left to right, from up to down \n",
    "digits = {}"
   ]
  },
  {
   "cell_type": "code",
   "execution_count": 166,
   "metadata": {
    "ExecuteTime": {
     "end_time": "2020-06-25T04:03:20.644272Z",
     "start_time": "2020-06-25T04:03:20.628285Z"
    }
   },
   "outputs": [],
   "source": [
    "# interate over every contours\n",
    "for (i, c) in enumerate(refCnts):\n",
    "    (x,y,w,h) = cv2.boundingRect(c)\n",
    "    roi = ref[y:y+h, x:x+w]\n",
    "    roi = cv2.resize(roi, (57,88))\n",
    "    digits[i] = roi"
   ]
  },
  {
   "cell_type": "markdown",
   "metadata": {
    "ExecuteTime": {
     "end_time": "2020-06-24T09:24:30.257027Z",
     "start_time": "2020-06-24T09:24:30.248032Z"
    }
   },
   "source": [
    "# Image Processing\n",
    "find the position to load"
   ]
  },
  {
   "cell_type": "code",
   "execution_count": 167,
   "metadata": {
    "ExecuteTime": {
     "end_time": "2020-06-25T04:03:27.861350Z",
     "start_time": "2020-06-25T04:03:27.853373Z"
    }
   },
   "outputs": [],
   "source": [
    "# initialize convolution kernel\n",
    "rectKernel = cv2.getStructuringElement(cv2.MORPH_RECT, (9, 3))\n",
    "sqKernel=cv2.getStructuringElement(cv2.MORPH_RECT, (5, 5))"
   ]
  },
  {
   "cell_type": "code",
   "execution_count": 168,
   "metadata": {
    "ExecuteTime": {
     "end_time": "2020-06-25T04:03:30.785262Z",
     "start_time": "2020-06-25T04:03:28.455310Z"
    }
   },
   "outputs": [],
   "source": [
    "image = cv2.imread(image_path)\n",
    "cv_show('image',image)\n",
    "h,w=image.shape[:2]\n",
    "image= cv2.resize(image,(300,int(h*300/w))) #wide 300\n",
    "gray=cv2.cvtColor(image, cv2.COLOR_BGR2GRAY)\n",
    "cv_show('gray',gray)"
   ]
  },
  {
   "cell_type": "code",
   "execution_count": 169,
   "metadata": {
    "ExecuteTime": {
     "end_time": "2020-06-25T04:03:33.327616Z",
     "start_time": "2020-06-25T04:03:32.149845Z"
    }
   },
   "outputs": [],
   "source": [
    "tophat = cv2.morphologyEx(gray, cv2.MORPH_TOPHAT, rectKernel) \n",
    "cv_show('tophat',tophat) "
   ]
  },
  {
   "cell_type": "code",
   "execution_count": 170,
   "metadata": {
    "ExecuteTime": {
     "end_time": "2020-06-25T04:03:36.114163Z",
     "start_time": "2020-06-25T04:03:34.974748Z"
    }
   },
   "outputs": [
    {
     "name": "stdout",
     "output_type": "stream",
     "text": [
      "(189, 300)\n"
     ]
    }
   ],
   "source": [
    "gradX = cv2.Sobel(tophat, ddepth=cv2.CV_32F, dx=1, dy=0, #ksize=-1 equals 3*3\n",
    "\tksize=-1)\n",
    "gradX = np.absolute(gradX)\n",
    "(minVal, maxVal) = (np.min(gradX), np.max(gradX))\n",
    "gradX = (255 * ((gradX - minVal) / (maxVal - minVal)))\n",
    "gradX = gradX.astype(\"uint8\")\n",
    "\n",
    "print (np.array(gradX).shape)\n",
    "cv_show('gradX',gradX)"
   ]
  },
  {
   "cell_type": "code",
   "execution_count": 171,
   "metadata": {
    "ExecuteTime": {
     "end_time": "2020-06-25T04:03:38.010660Z",
     "start_time": "2020-06-25T04:03:36.941693Z"
    }
   },
   "outputs": [],
   "source": [
    "#Perform morphological closing\n",
    "gradX = cv2.morphologyEx(gradX, cv2.MORPH_CLOSE, rectKernel) \n",
    "cv_show('gradX',gradX)"
   ]
  },
  {
   "cell_type": "code",
   "execution_count": 172,
   "metadata": {
    "ExecuteTime": {
     "end_time": "2020-06-25T04:03:39.859837Z",
     "start_time": "2020-06-25T04:03:38.883020Z"
    }
   },
   "outputs": [],
   "source": [
    "#THRESH_OTSU will automatically find the optimal value\n",
    "thresh = cv2.threshold(gradX, 0, 255, cv2.THRESH_BINARY | cv2.THRESH_OTSU)[1] \n",
    "cv_show('thresh',thresh)"
   ]
  },
  {
   "cell_type": "code",
   "execution_count": 173,
   "metadata": {
    "ExecuteTime": {
     "end_time": "2020-06-25T04:03:42.807883Z",
     "start_time": "2020-06-25T04:03:41.807451Z"
    }
   },
   "outputs": [],
   "source": [
    "thresh = cv2.morphologyEx(thresh, cv2.MORPH_CLOSE, sqKernel) #one more closing\n",
    "cv_show('thresh',thresh)"
   ]
  },
  {
   "cell_type": "code",
   "execution_count": 174,
   "metadata": {
    "ExecuteTime": {
     "end_time": "2020-06-25T04:03:44.998175Z",
     "start_time": "2020-06-25T04:03:44.993194Z"
    }
   },
   "outputs": [],
   "source": [
    "# get contours\n",
    "threshCnts, hierarchy = cv2.findContours(thresh.copy(), cv2.RETR_EXTERNAL,cv2.CHAIN_APPROX_SIMPLE)"
   ]
  },
  {
   "cell_type": "code",
   "execution_count": 175,
   "metadata": {
    "ExecuteTime": {
     "end_time": "2020-06-25T04:03:47.681180Z",
     "start_time": "2020-06-25T04:03:46.409674Z"
    }
   },
   "outputs": [],
   "source": [
    "cnts = threshCnts\n",
    "cur_img = image.copy()\n",
    "cv2.drawContours(cur_img,cnts,-1,(0,0,255),3) \n",
    "cv_show('img',cur_img)\n",
    "locs = []"
   ]
  },
  {
   "cell_type": "markdown",
   "metadata": {},
   "source": [
    "# Find the postion of digits based on Contours"
   ]
  },
  {
   "cell_type": "code",
   "execution_count": 176,
   "metadata": {
    "ExecuteTime": {
     "end_time": "2020-06-25T04:03:52.318618Z",
     "start_time": "2020-06-25T04:03:52.309622Z"
    }
   },
   "outputs": [],
   "source": [
    "# iterate over all contours\n",
    "for (i, c) in enumerate(cnts):\n",
    "\t# Get rectangles\n",
    "\t(x, y, w, h) = cv2.boundingRect(c)\n",
    "\tar = w / float(h)\n",
    "\n",
    "\tif ar > 2.5 and ar < 4.0:\n",
    "\n",
    "\t\tif (w > 40 and w < 55) and (h > 10 and h < 20):\n",
    "\n",
    "\t\t\tlocs.append((x, y, w, h))"
   ]
  },
  {
   "cell_type": "code",
   "execution_count": 177,
   "metadata": {
    "ExecuteTime": {
     "end_time": "2020-06-25T04:03:56.517093Z",
     "start_time": "2020-06-25T04:03:56.510091Z"
    }
   },
   "outputs": [],
   "source": [
    "# sort the suitable contours\n",
    "locs = sorted(locs, key=lambda x:x[0])\n",
    "output = []"
   ]
  },
  {
   "cell_type": "code",
   "execution_count": 178,
   "metadata": {
    "ExecuteTime": {
     "end_time": "2020-06-25T04:04:27.342970Z",
     "start_time": "2020-06-25T04:03:57.266379Z"
    }
   },
   "outputs": [],
   "source": [
    "for (i, (gX, gY, gW, gH)) in enumerate(locs):\n",
    "    # initialize the list of group digits\n",
    "    groupOutput = []\n",
    "    group = gray[gY - 5:gY + gH + 5, gX - 5:gX + gW + 5] # set a larger range\n",
    "    cv_show('group',group)\n",
    "    group = cv2.threshold(group, 0, 255, cv2.THRESH_BINARY | cv2.THRESH_OTSU)[1]\n",
    "    cv_show('group',group)\n",
    "    \n",
    "    digitCnts, hierarchy = cv2.findContours(group.copy(), cv2.RETR_EXTERNAL, cv2.CHAIN_APPROX_SIMPLE)\n",
    "    digitCnts = contours.sort_contours(digitCnts, method='left-to-right')[0]\n",
    "    \n",
    "    for c in digitCnts:\n",
    "        # find the contour of current digit and resize it\n",
    "        (x,y,w,h) = cv2.boundingRect(c)\n",
    "        roi = group[y:y+h, x:x+w]\n",
    "        roi = cv2.resize(roi,(57,88))\n",
    "        cv_show('roi',roi)\n",
    "        \n",
    "        scores = []\n",
    "        \n",
    "        for (digit, digitROI) in digits.items():\n",
    "            result = cv2.matchTemplate(roi, digitROI,cv2.TM_CCOEFF)\n",
    "            _,score, _, _ = cv2.minMaxLoc(result)\n",
    "            scores.append(score)\n",
    "        groupOutput.append(str(np.argmax(scores)))\n",
    "    \n",
    "    # plot\n",
    "    cv2.rectangle(image, (gX-5, gY-5),(gX + gW + 5, gY + gH + 5), (0, 0, 255), 1)\n",
    "    cv2.putText(image, \"\".join(groupOutput), (gX,gY-15), cv2.FONT_HERSHEY_SIMPLEX, 0.65, (0,0,255), 2)\n",
    "    \n",
    "    # get the result\n",
    "    output.extend(groupOutput)       "
   ]
  },
  {
   "cell_type": "code",
   "execution_count": 180,
   "metadata": {
    "ExecuteTime": {
     "end_time": "2020-06-25T05:15:00.881298Z",
     "start_time": "2020-06-25T04:04:46.677745Z"
    }
   },
   "outputs": [
    {
     "name": "stdout",
     "output_type": "stream",
     "text": [
      "Credit Card Type: Visa\n",
      "Credit Card #: 4000123456789010\n"
     ]
    },
    {
     "data": {
      "text/plain": [
       "-1"
      ]
     },
     "execution_count": 180,
     "metadata": {},
     "output_type": "execute_result"
    }
   ],
   "source": [
    "print(\"Credit Card Type: {}\".format(FIRST_NUMBER[output[0]]))\n",
    "print(\"Credit Card #: {}\".format(\"\".join(output)))\n",
    "cv2.imshow(\"Image\", image)\n",
    "cv2.waitKey(0)"
   ]
  }
 ],
 "metadata": {
  "kernelspec": {
   "display_name": "Python 3",
   "language": "python",
   "name": "python3"
  },
  "language_info": {
   "codemirror_mode": {
    "name": "ipython",
    "version": 3
   },
   "file_extension": ".py",
   "mimetype": "text/x-python",
   "name": "python",
   "nbconvert_exporter": "python",
   "pygments_lexer": "ipython3",
   "version": "3.7.0"
  },
  "toc": {
   "base_numbering": 1,
   "nav_menu": {},
   "number_sections": true,
   "sideBar": true,
   "skip_h1_title": false,
   "title_cell": "Table of Contents",
   "title_sidebar": "Contents",
   "toc_cell": false,
   "toc_position": {},
   "toc_section_display": true,
   "toc_window_display": false
  },
  "varInspector": {
   "cols": {
    "lenName": 16,
    "lenType": 16,
    "lenVar": 40
   },
   "kernels_config": {
    "python": {
     "delete_cmd_postfix": "",
     "delete_cmd_prefix": "del ",
     "library": "var_list.py",
     "varRefreshCmd": "print(var_dic_list())"
    },
    "r": {
     "delete_cmd_postfix": ") ",
     "delete_cmd_prefix": "rm(",
     "library": "var_list.r",
     "varRefreshCmd": "cat(var_dic_list()) "
    }
   },
   "oldHeight": 122.4,
   "position": {
    "height": "40px",
    "left": "524.4px",
    "right": "20px",
    "top": "118px",
    "width": "350px"
   },
   "types_to_exclude": [
    "module",
    "function",
    "builtin_function_or_method",
    "instance",
    "_Feature"
   ],
   "varInspector_section_display": "none",
   "window_display": true
  }
 },
 "nbformat": 4,
 "nbformat_minor": 4
}
